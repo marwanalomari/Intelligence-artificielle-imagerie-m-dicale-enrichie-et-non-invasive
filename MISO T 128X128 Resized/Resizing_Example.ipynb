{
 "cells": [
  {
   "cell_type": "code",
   "execution_count": 1,
   "metadata": {},
   "outputs": [],
   "source": [
    "import random\n",
    "import cv2\n",
    "import numpy as np\n",
    "import nibabel as nib\n",
    "import warnings\n",
    "warnings.filterwarnings('ignore')\n",
    "import torch\n",
    "import torch.nn.functional as F\n",
    "import os\n",
    "import torch.nn as nn\n",
    "import functools\n",
    "from torch.nn import init\n",
    "from torch.utils import data\n",
    "from medpy.metric.binary import recall,specificity,hd95\n",
    "import sys\n",
    "from dataset_brain import Dataset_gan, Dataset_gan_T, Dataset_gan_F\n",
    "from loss import dice_loss,dice_score\n",
    "from subprocess import call\n",
    "from model import netD, define_G, Unet\n",
    "from utils import label2onehot,classification_loss,gradient_penalty,seed_torch,update_lr\n",
    "import matplotlib as mpl\n",
    "%matplotlib inline\n",
    "import matplotlib.pyplot as plt\n",
    "import SimpleITK as sitk \n",
    "from tqdm import tqdm\n",
    "import glob \n",
    "from scipy.ndimage import zoom\n",
    "import re\n",
    "import matplotlib.colors as colors\n",
    "from nibabel.testing import data_path\n",
    "import math\n",
    "import time\n",
    "from sklearn.model_selection import train_test_split\n",
    "import pickle\n",
    "import pandas as pd"
   ]
  },
  {
   "cell_type": "code",
   "execution_count": 2,
   "metadata": {},
   "outputs": [],
   "source": [
    "file_path_flair=glob.glob('./dataset/**/*_flair.nii',recursive=True)\n",
    "file_path_seg=glob.glob('./dataset/**/*_seg.nii',recursive=True)\n",
    "file_path_t1=glob.glob('./dataset/**/*_t1.nii',recursive=True)\n",
    "file_path_t1ce=glob.glob('./dataset/**/*_t1ce.nii',recursive=True)\n",
    "file_path_t2=glob.glob('./dataset/**/*_t2.nii',recursive=True)\n",
    "data_path = []\n",
    "data_path.extend(file_path_flair)\n",
    "data_path.extend(file_path_seg)\n",
    "data_path.extend(file_path_t1)\n",
    "data_path.extend(file_path_t1ce)\n",
    "data_path.extend(file_path_t2)"
   ]
  },
  {
   "cell_type": "code",
   "execution_count": 3,
   "metadata": {},
   "outputs": [],
   "source": [
    "random.seed(10)\n",
    "split_n=random.sample(range(1050),1)\n",
    "\n",
    "test_path=[data_path[i] for i in split_n]\n",
    "train_path=[data_path[i] for i in split_n]\n",
    "gan_path=[data_path[i] for i in split_n]"
   ]
  },
  {
   "cell_type": "code",
   "execution_count": 108,
   "metadata": {},
   "outputs": [],
   "source": [
    "flair,t1,t1ce,t2,seg=[],[],[],[],[]\n",
    "tumor,nontumor,total=0,0,0\n",
    "\n",
    "for i in train_path:\n",
    "    flair_path=i\n",
    "    t1_path=i.replace('_flair','_t1')\n",
    "    t1ce_path=i.replace('_flair','_t1ce')\n",
    "    t2_path=i.replace('_flair','_t2')\n",
    "    label_path=i.replace('_flair','_seg')\n",
    "\n",
    "    img_flair=nib.load(flair_path).get_data()\n",
    "    img_t1=nib.load(t1_path).get_data()\n",
    "    img_t1ce=nib.load(t1ce_path).get_data()\n",
    "    img_t2=nib.load(t2_path).get_data()\n",
    "    label=nib.load(label_path).get_data()\n",
    "    \n",
    "    label[label!=0]=1\n",
    "    \n",
    "    img_flair_=img_flair.copy()\n",
    "    img_flair_[img_flair_!=0]=1\n",
    "    \n",
    "    img_t1_=img_t1.copy()\n",
    "    img_t1_[img_t1_!=0]=1\n",
    "    \n",
    "    img_t1ce_=img_t1ce.copy()\n",
    "    img_t1ce_[img_t1ce_!=0]=1\n",
    "    \n",
    "    img_t2_=img_t2.copy()\n",
    "    img_t2_[img_t2_!=0]=1\n",
    "    \n",
    "    for j in range(154,-1,-1):\n",
    "        a=label[:,:,j].sum()\n",
    "        b=img_flair_[:,:,j].sum()\n",
    "        c=img_t1_[:,:,j].sum()\n",
    "        d=img_t1ce_[:,:,j].sum()\n",
    "        e=img_t2_[:,:,j].sum()\n",
    "        threshold = 2000\n",
    "        if b>threshold and c>threshold and d>threshold and e>threshold:\n",
    "\n",
    "            img_slice=img_flair[:,:,j]\n",
    "            mm0=cv2.resize(img_slice,(169,169),interpolation=cv2.INTER_AREA)\n",
    "            mm0=mm0/mm0.max()\n",
    "            flair.append(mm0)\n",
    "\n",
    "            img_slice=label[:,:,j]\n",
    "            mm0=cv2.resize(img_slice,(169,169),interpolation=cv2.INTER_AREA)\n",
    "            mm0=mm0[20:148,27:155]\n",
    "            mm0[mm0>=0.5]=1.\n",
    "            mm0[mm0!=1]=0.\n",
    "            seg.append(mm0)\n",
    "            \n",
    "            total+=1\n",
    "            if a>50:\n",
    "                tumor+=1\n",
    "            elif a==0:\n",
    "                nontumor+=1  \n",
    "\n",
    "np.save('./npy_train/train_flair.npy',flair)\n",
    "np.save('./npy_train/train_t1.npy',t1)\n",
    "np.save('./npy_train/train_t1ce.npy',t1ce)\n",
    "np.save('./npy_train/train_t2.npy',t2)\n",
    "np.save('./npy_train/train_seg.npy',seg)"
   ]
  },
  {
   "cell_type": "code",
   "execution_count": 112,
   "metadata": {},
   "outputs": [
    {
     "data": {
      "text/plain": [
       "<matplotlib.image.AxesImage at 0x28203c07670>"
      ]
     },
     "execution_count": 112,
     "metadata": {},
     "output_type": "execute_result"
    },
    {
     "data": {
      "image/png": "[encoded data removed]",
      "text/plain": [
       "<Figure size 432x288 with 1 Axes>"
      ]
     },
     "metadata": {
      "needs_background": "light"
     },
     "output_type": "display_data"
    }
   ],
   "source": [
    "x = flair[70]\n",
    "plt.imshow(x,cmap=\"gray\")"
   ]
  },
  {
   "cell_type": "code",
   "execution_count": null,
   "metadata": {},
   "outputs": [],
   "source": [
    "x = seg[70]\n",
    "plt.imshow(x,cmap=\"gray\")"
   ]
  }
 ],
 "metadata": {
  "kernelspec": {
   "display_name": "Python 3.8.13 ('PytorchCuda')",
   "language": "python",
   "name": "python3"
  },
  "language_info": {
   "codemirror_mode": {
    "name": "ipython",
    "version": 3
   },
   "file_extension": ".py",
   "mimetype": "text/x-python",
   "name": "python",
   "nbconvert_exporter": "python",
   "pygments_lexer": "ipython3",
   "version": "3.8.13"
  },
  "orig_nbformat": 4,
  "vscode": {
   "interpreter": {
    "hash": "486a7165f4730f50efb252780ee3665b5627d0a375250503ab9d8863b8746339"
   }
  }
 },
 "nbformat": 4,
 "nbformat_minor": 2
}
